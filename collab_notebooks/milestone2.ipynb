{
  "nbformat": 4,
  "nbformat_minor": 0,
  "metadata": {
    "colab": {
      "provenance": [],
      "private_outputs": true,
      "gpuType": "T4"
    },
    "kernelspec": {
      "name": "python3",
      "display_name": "Python 3"
    },
    "language_info": {
      "name": "python"
    },
    "accelerator": "GPU",
    "gpuClass": "standard"
  },
  "cells": [
    {
      "cell_type": "code",
      "execution_count": null,
      "metadata": {
        "id": "ZhGiyUPJaZCR"
      },
      "outputs": [],
      "source": [
        "import os\n",
        "os.environ['CUDA_LAUNCH_BLOCKING'] = '1'\n",
        "\n",
        "! pip install transformers==4.27.4\n",
        "\n",
        "! pip install torchtext==0.10.1\n",
        "\n",
        "import torch\n",
        "device = torch.device(\"cuda\")\n",
        "torch.cuda.init()\n",
        "\n",
        "from google.colab import drive\n",
        "drive.mount('/content/gdrive')\n",
        "\n",
        "from transformers import GPT2Tokenizer, GPT2Config, GPT2LMHeadModel, TextDataset"
      ]
    },
    {
      "cell_type": "code",
      "source": [
        "model_path = \"/content/gdrive/My Drive/model/chitchat_generator.pt\"\n",
        "\n",
        "tokenizer = GPT2Tokenizer.from_pretrained('gpt2', padding_side='left')\n",
        "model = GPT2LMHeadModel.from_pretrained('gpt2')\n",
        "\n",
        "model.load_state_dict(torch.load(model_path, map_location=device))"
      ],
      "metadata": {
        "id": "wLY0H4dAa6jf"
      },
      "execution_count": null,
      "outputs": []
    },
    {
      "cell_type": "code",
      "source": [
        "test_path = '/content/gdrive/My Drive/dataset/combined_test.txt'"
      ],
      "metadata": {
        "id": "0Kvyj-0Qbe26"
      },
      "execution_count": null,
      "outputs": []
    },
    {
      "cell_type": "code",
      "source": [
        "from torch.utils.data import DataLoader"
      ],
      "metadata": {
        "id": "BDuAGs3Gb4Qa"
      },
      "execution_count": null,
      "outputs": []
    },
    {
      "cell_type": "code",
      "source": [
        "import re\n",
        "def getResponse(input_text, model,tokenizer, device):\n",
        "  input_ids = tokenizer.encode(input_text, return_tensors='pt')\n",
        "  if(len(input_ids)<=0):\n",
        "    print(input_text)\n",
        "    return None\n",
        "  input_ids = input_ids.to(device)\n",
        "  model = model.to(device)\n",
        "  output_ids = model.generate(input_ids,pad_token_id=tokenizer.eos_token_id, max_length=70,early_stopping=True)\n",
        "  output_text = tokenizer.decode(output_ids[0], skip_special_tokens=True)\n",
        "  messages = output_text.split(\"\\n\")\n",
        "  first_bot_response = None\n",
        "  for message in messages:\n",
        "    if message.startswith(\"Bot:\"):\n",
        "        first_bot_response = message.strip()\n",
        "        break\n",
        "  return first_bot_response"
      ],
      "metadata": {
        "id": "GMXMW0ofbpZo"
      },
      "execution_count": null,
      "outputs": []
    },
    {
      "cell_type": "code",
      "source": [
        "print(getResponse(\"User: Hello, I am feeling very sad\",model, tokenizer, device))"
      ],
      "metadata": {
        "id": "XBhx6Jj1gv9W"
      },
      "execution_count": null,
      "outputs": []
    },
    {
      "cell_type": "code",
      "source": [
        "with open('/content/gdrive/My Drive/dataset/combined_test.txt', 'r', encoding='utf-8') as f:\n",
        "    test_data = f.readlines()"
      ],
      "metadata": {
        "id": "YryGXsmTeUnf"
      },
      "execution_count": null,
      "outputs": []
    },
    {
      "cell_type": "code",
      "source": [
        "len(test_data)"
      ],
      "metadata": {
        "id": "W4knbvpkz_7O"
      },
      "execution_count": null,
      "outputs": []
    },
    {
      "cell_type": "code",
      "source": [
        "def prepare(test_data):\n",
        "  input = {}\n",
        "  response = {}\n",
        "  conv_id = 1\n",
        "  idx = 1\n",
        "  for i in range(len(test_data)):\n",
        "    input[idx]=\"\"\n",
        "    response[idx]=\"\"\n",
        "    if(test_data[i]==\"\\n\" or test_data[i]=='\\n'):\n",
        "      idx+=1\n",
        "  for data in test_data:\n",
        "    if(conv_id>=idx):\n",
        "      break\n",
        "    if(data.startswith(\"User\")):\n",
        "      input[conv_id]+= data \n",
        "    elif(data.startswith(\"Bot\")):\n",
        "      response[conv_id]+=data\n",
        "    else:\n",
        "      conv_id+=1\n",
        "  return input,response"
      ],
      "metadata": {
        "id": "RNIyc7UBecLG"
      },
      "execution_count": null,
      "outputs": []
    },
    {
      "cell_type": "code",
      "source": [
        "input, response = prepare(test_data)"
      ],
      "metadata": {
        "id": "f28x0-q2ekBs"
      },
      "execution_count": null,
      "outputs": []
    },
    {
      "cell_type": "code",
      "source": [
        "# from tqdm import tqdm\n",
        "# def getResponses(input, response, model,tokenizer, device):\n",
        "#   generated_response = {}\n",
        "#   with open(\"/content/gdrive/My Drive/dataset/generated_responses.json\", 'a') as f:\n",
        "#     for idx, text in tqdm(input.items()):\n",
        "#       value = getResponse(text, model,tokenizer, device)\n",
        "#       if(value==None):\n",
        "#         response2[idx]=\"None\"\n",
        "#       generated_response[idx] = value\n",
        "#       f.write(str(idx)+ \":\" )\n",
        "#       f.write(str(value))\n",
        "#       f.write(\"\\n\")\n",
        "#   return generated_response"
      ],
      "metadata": {
        "id": "RfQXtbu_emF4"
      },
      "execution_count": null,
      "outputs": []
    },
    {
      "cell_type": "code",
      "source": [
        "from tqdm import tqdm\n",
        "def getResponses(input, response, model,tokenizer, device):\n",
        "  generated_response = {}\n",
        "  for idx, text in tqdm(input.items()):\n",
        "    value = getResponse(text, model,tokenizer, device)\n",
        "    if(value==None):\n",
        "      response2[idx]=\"None\"\n",
        "    generated_response[idx] = value\n",
        "  return generated_response"
      ],
      "metadata": {
        "id": "lvb_zjVAmqJ9"
      },
      "execution_count": null,
      "outputs": []
    },
    {
      "cell_type": "code",
      "source": [
        "input_demo_keys = list(input.keys())[:7000]\n",
        "input_demo = {key: input[key] for key in input_demo_keys}"
      ],
      "metadata": {
        "id": "7nInLdvGC3Tj"
      },
      "execution_count": null,
      "outputs": []
    },
    {
      "cell_type": "code",
      "source": [
        "response_demo_keys = list(response.keys())[:7000]\n",
        "response_demo = {key: response[key] for key in response_demo_keys}\n",
        "response2=response_demo.copy()"
      ],
      "metadata": {
        "id": "q7F8mRXXDvLn"
      },
      "execution_count": null,
      "outputs": []
    },
    {
      "cell_type": "code",
      "source": [
        "generated_response = getResponses(input_demo, response_demo, model,tokenizer, device)"
      ],
      "metadata": {
        "id": "VS1DoeK4m48l"
      },
      "execution_count": null,
      "outputs": []
    },
    {
      "cell_type": "code",
      "source": [
        "import json\n",
        "# open file for writing\n",
        "with open(\"/content/gdrive/My Drive/dataset/generated_responses.json\", \"w\") as outfile:\n",
        "    # write dictionary to file in JSON format\n",
        "    json.dump(generated_response, outfile)"
      ],
      "metadata": {
        "id": "c4TiLTNDMF5I"
      },
      "execution_count": null,
      "outputs": []
    },
    {
      "cell_type": "code",
      "source": [
        "import json\n",
        "# open file for writing\n",
        "with open(\"/content/gdrive/My Drive/dataset/modified_responses.json\", \"w\") as outfile:\n",
        "    # write dictionary to file in JSON format\n",
        "    json.dump(response2, outfile)"
      ],
      "metadata": {
        "id": "O7b9mw9cnYYV"
      },
      "execution_count": null,
      "outputs": []
    },
    {
      "cell_type": "code",
      "source": [
        "with open(\"/content/gdrive/My Drive/dataset/generated_responses2.json\", \"r\") as rf:\n",
        "  data = rf.readlines()\n",
        "len(data)"
      ],
      "metadata": {
        "id": "hWD6hqkSiRpW"
      },
      "execution_count": null,
      "outputs": []
    },
    {
      "cell_type": "code",
      "source": [
        "formatted_response = []\n",
        "for res in data:\n",
        "  res.strip()\n",
        "  if(\"Bot\" in res):\n",
        "    res = res[res.find(\"Bot\"):len(res)-1]\n",
        "  formatted_response.append(res)"
      ],
      "metadata": {
        "id": "8ag6OGiWiSlf"
      },
      "execution_count": null,
      "outputs": []
    },
    {
      "cell_type": "code",
      "source": [
        "! pip install bert-score\n"
      ],
      "metadata": {
        "id": "e6YLdyW0v4QP"
      },
      "execution_count": null,
      "outputs": []
    },
    {
      "cell_type": "code",
      "source": [
        "from bert_score import score\n",
        "P, R, F1 = score(formatted_response, list(response.values()), lang=\"en\", verbose=True)"
      ],
      "metadata": {
        "id": "8jhZ6zUfwJs5"
      },
      "execution_count": null,
      "outputs": []
    },
    {
      "cell_type": "code",
      "source": [
        "print(P.mean().item())\n",
        "print(R.mean().item())\n",
        "print(F1.mean().item())"
      ],
      "metadata": {
        "id": "ApKfBv_BxYBG"
      },
      "execution_count": null,
      "outputs": []
    },
    {
      "cell_type": "code",
      "source": [
        "from nltk.translate.bleu_score import corpus_bleu\n",
        "bleu_score = corpus_bleu(formatted_response, list(response.values()))\n",
        "bleu_score"
      ],
      "metadata": {
        "id": "WMAZvfCpxru5"
      },
      "execution_count": null,
      "outputs": []
    },
    {
      "cell_type": "code",
      "source": [
        "! pip install rouge"
      ],
      "metadata": {
        "id": "WDDWQ5R20hDw"
      },
      "execution_count": null,
      "outputs": []
    },
    {
      "cell_type": "code",
      "source": [
        "from rouge import Rouge\n",
        "rouge = Rouge()\n",
        "scores = rouge.get_scores(formatted_response, list(response.values()), avg=True)"
      ],
      "metadata": {
        "id": "6ymKgsgp0aQl"
      },
      "execution_count": null,
      "outputs": []
    }
  ]
}