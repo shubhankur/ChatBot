{
  "nbformat": 4,
  "nbformat_minor": 0,
  "metadata": {
    "colab": {
      "private_outputs": true,
      "provenance": [],
      "gpuType": "T4"
    },
    "kernelspec": {
      "name": "python3",
      "display_name": "Python 3"
    },
    "language_info": {
      "name": "python"
    },
    "accelerator": "GPU",
    "gpuClass": "standard"
  },
  "cells": [
    {
      "cell_type": "code",
      "source": [
        "chitchat_classifier\n",
        "#chitchat_classifier = load_classifier"
      ],
      "metadata": {
        "id": "LZWAVGAdaBn_"
      },
      "execution_count": null,
      "outputs": []
    },
    {
      "cell_type": "code",
      "source": [
        "get_chitchat_response(input)\n",
        "get_factoid_response(input)"
      ],
      "metadata": {
        "id": "MT1cKCqjccSP"
      },
      "execution_count": null,
      "outputs": []
    },
    {
      "cell_type": "code",
      "execution_count": null,
      "metadata": {
        "id": "NAppL5hWZoZm"
      },
      "outputs": [],
      "source": [
        "input = \"\"\n",
        "conv_type = 0 # 0 -> not assigned yet, 1 is chit-chat and 2 is factoid"
      ]
    },
    {
      "cell_type": "code",
      "source": [
        "if(val>0.5):\n",
        "  conv_type = 1\n",
        "else:\n",
        "  conv_type = 2"
      ],
      "metadata": {
        "id": "ZrEcvvFLaAHE"
      },
      "execution_count": null,
      "outputs": []
    },
    {
      "cell_type": "code",
      "source": [
        "responses = []\n",
        "if(conv_type==1):\n",
        "  responses = get_chitchat_response(input)\n",
        "else:\n",
        "  responses = get_factoid_response(input)"
      ],
      "metadata": {
        "id": "pDO8OGL4cAVa"
      },
      "execution_count": null,
      "outputs": []
    },
    {
      "cell_type": "code",
      "source": [
        "! pip install torchtext==0.10.1\n",
        "import torch\n",
        "device = torch.device(\"cuda\")\n",
        "torch.cuda.init()"
      ],
      "metadata": {
        "id": "joVuYC4qewr2"
      },
      "execution_count": null,
      "outputs": []
    },
    {
      "cell_type": "code",
      "source": [
        "!pip install sentence-transformers\n",
        "from sentence_transformers import SentenceTransformer\n",
        "# Load a pre-trained SBERT model\n",
        "model = SentenceTransformer('bert-base-nli-mean-tokens')"
      ],
      "metadata": {
        "id": "JxIcNDLGgEqo"
      },
      "execution_count": null,
      "outputs": []
    },
    {
      "cell_type": "code",
      "source": [
        "def get_most_similar_response(input_query, responses):\n",
        "  response_embeddings = model.encode(responses)\n",
        "  response_embeddings_tensor = torch.tensor(response_embeddings)\n",
        "  input_query_embedding = model.encode(input_query)\n",
        "  input_query_embedding_tensor = torch.tensor(input_query_embedding)\n",
        "  similarity_scores = torch.nn.functional.cosine_similarity(input_query_embedding_tensor, response_embeddings_tensor)\n",
        "  most_similar_idx = similarity_scores.argmax().item()\n",
        "  most_similar_sentence = responses[most_similar_idx]\n",
        "  return most_similar_sentence;"
      ],
      "metadata": {
        "id": "3fZwSzoOgwoe"
      },
      "execution_count": null,
      "outputs": []
    },
    {
      "cell_type": "code",
      "source": [
        "response = get_most_similar_response(input, responses)"
      ],
      "metadata": {
        "id": "8U6zpDwAhqDw"
      },
      "execution_count": null,
      "outputs": []
    }
  ]
}