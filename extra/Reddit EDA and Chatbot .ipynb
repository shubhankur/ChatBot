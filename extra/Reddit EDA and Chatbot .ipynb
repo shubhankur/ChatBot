{
 "cells": [
  {
   "cell_type": "markdown",
   "metadata": {
    "datalore": {
     "hide_input_from_viewers": true,
     "hide_output_from_viewers": true,
     "node_id": "NUNkQBRBKMPGvotBJeQu7U",
     "type": "MD"
    }
   },
   "source": [
    "## Import libraries"
   ]
  },
  {
   "cell_type": "code",
   "execution_count": 1,
   "metadata": {
    "datalore": {
     "hide_input_from_viewers": true,
     "hide_output_from_viewers": true,
     "node_id": "Fqv1f1Sz5cpCny3IKACkIw",
     "type": "CODE"
    }
   },
   "outputs": [
    {
     "name": "stderr",
     "output_type": "stream",
     "text": [
      "/Users/shubhankarkumar/opt/anaconda3/envs/chatbot/lib/python3.11/site-packages/tqdm/auto.py:21: TqdmWarning: IProgress not found. Please update jupyter and ipywidgets. See https://ipywidgets.readthedocs.io/en/stable/user_install.html\n",
      "  from .autonotebook import tqdm as notebook_tqdm\n"
     ]
    }
   ],
   "source": [
    "import pandas as pd\n",
    "import datetime as dt\n",
    "\n",
    "# # Visualization libraries\n",
    "# from wordcloud import WordCloud\n",
    "# import matplotlib.pyplot as plt\n",
    "# %matplotlib inline\n",
    "# import seaborn as sns\n",
    "\n",
    "# Transformer model\n",
    "from transformers import pipeline"
   ]
  },
  {
   "cell_type": "markdown",
   "metadata": {
    "datalore": {
     "hide_input_from_viewers": true,
     "hide_output_from_viewers": false,
     "node_id": "C6jOodf0qdvpsBfBEERTyK",
     "report_properties": {
      "relativeY": 0,
      "rowId": "29BAf50h7CsFjfQTGs2mnN"
     },
     "type": "MD"
    }
   },
   "source": [
    "## Import Reddit data\n",
    "\n",
    "The data contains the top posts from 3 subreddits: Datascience, MachineLearning and artificial. Data is obtained with Python Reddit API Wrapper library."
   ]
  },
  {
   "cell_type": "code",
   "execution_count": 2,
   "metadata": {
    "datalore": {
     "hide_input_from_viewers": true,
     "hide_output_from_viewers": true,
     "node_id": "nXTDLELP98giAuLqWDGwIk",
     "type": "CODE"
    }
   },
   "outputs": [],
   "source": [
    "# Load data\n",
    "posts_df = pd.read_csv('datasets/DS_ML_AI_posts.csv')\n",
    "comments_df = pd.read_csv('datasets/DS_ML_AI_comments.csv')\n",
    "\n",
    "# Number of observations - for metric cells\n",
    "number_of_posts = posts_df.shape[0]\n",
    "number_of_comments = comments_df.shape[0]\n",
    "count_subreddits = posts_df['subreddit'].nunique()"
   ]
  },
  {
   "cell_type": "code",
   "execution_count": 3,
   "metadata": {
    "datalore": {
     "hide_input_from_viewers": true,
     "hide_output_from_viewers": true,
     "node_id": "5RnnkNTtFKDHrB9ofCIbHe",
     "type": "CODE"
    }
   },
   "outputs": [],
   "source": [
    "# Convert created date to normal datetime\n",
    "posts_df['created_date'] = posts_df['created_utc'].apply(lambda x: dt.datetime.fromtimestamp(x))\n",
    "posts_df['created_year'] = posts_df['created_date'].dt.year\n",
    "# posts_df"
   ]
  },
  {
   "cell_type": "code",
   "execution_count": 5,
   "metadata": {
    "datalore": {
     "hide_input_from_viewers": true,
     "hide_output_from_viewers": true,
     "node_id": "STKmn7d0Ih2PKZDsX4Bro4",
     "type": "CODE"
    }
   },
   "outputs": [],
   "source": [
    "# Merge posts with their comments\n",
    "comments_posts_df = posts_df.merge(comments_df, on='post_id', how='left')\n",
    "\n",
    "# Remove rows with missing comments\n",
    "comments_posts_df = comments_posts_df[~comments_posts_df['comment'].isnull()]"
   ]
  },
  {
   "cell_type": "markdown",
   "metadata": {
    "datalore": {
     "hide_input_from_viewers": true,
     "hide_output_from_viewers": false,
     "node_id": "YwrDdLe4Hu4lBRN0ii2LCz",
     "report_properties": {
      "height": 3,
      "isDynamicHeight": false,
      "relativeY": 5,
      "rowId": "pYgRnf29WJWrwEVLXCKtqW",
      "splitHeight": 2,
      "width": 1,
      "x": 0
     },
     "type": "MD"
    }
   },
   "source": [
    "# EDA"
   ]
  },
  {
   "cell_type": "code",
   "execution_count": 6,
   "metadata": {
    "datalore": {
     "hide_input_from_viewers": true,
     "hide_output_from_viewers": true,
     "node_id": "OBsFN1CGsIXvQWwSQtgmWk",
     "type": "CODE"
    }
   },
   "outputs": [],
   "source": [
    "# posts_df"
   ]
  },
  {
   "cell_type": "code",
   "execution_count": 9,
   "metadata": {
    "datalore": {
     "hide_input_from_viewers": false,
     "hide_output_from_viewers": false,
     "node_id": "TAuh55TZDbAlBMc2uwi5Qy",
     "plot_state": {
      "label": "Number of posts by year",
      "plots": [
       {
        "colorAxis": {
         "label": "",
         "scale": "NONE",
         "value": "subreddit"
        },
        "type": "BAR",
        "variable": "posts_df",
        "xAxis": {
         "label": "",
         "scale": "NONE",
         "value": "created_year"
        },
        "yAxis": {
         "label": "",
         "scale": "NONE",
         "value": "COUNT(*)"
        }
       }
      ],
      "reactive": true,
      "sampling": true
     },
     "report_properties": {
      "height": 14,
      "isDynamicHeight": false,
      "relativeY": 8,
      "rowId": "pYgRnf29WJWrwEVLXCKtqW",
      "splitHeight": 2,
      "width": 0.5416666666666684,
      "x": 0
     },
     "type": "PLOT"
    }
   },
   "outputs": [
    {
     "data": {
      "text/html": [
       "<html lang=\"en\">\n",
       "   <head>\n",
       "       <script type=\"text/javascript\" data-lets-plot-script=\"library\" src=\"https://cdn.jsdelivr.net/gh/JetBrains/lets-plot@v3.1.0/js-package/distr/lets-plot.min.js\"></script>\n",
       "   </head>\n",
       "   <body>\n",
       "          <div id=\"0OwEG5\"></div>\n",
       "   <script type=\"text/javascript\" data-lets-plot-script=\"plot\">\n",
       "       var plotSpec={\n",
       "\"mapping\":{\n",
       "},\n",
       "\"data_meta\":{\n",
       "},\n",
       "\"ggtitle\":{\n",
       "\"text\":\"Number of posts by year\"\n",
       "},\n",
       "\"kind\":\"plot\",\n",
       "\"scales\":[],\n",
       "\"layers\":[{\n",
       "\"geom\":\"bar\",\n",
       "\"data\":{\n",
       "\"..count..\":[214.0,201.0,179.0,40.0,136.0,72.0,99.0,46.0,9.0,2.0,198.0,164.0,145.0,180.0,66.0,131.0,80.0,9.0,23.0,2.0,1.0,211.0,241.0,294.0,128.0,56.0,48.0,10.0,1.0,1.0],\n",
       "\"created_year\":[2020.0,2021.0,2022.0,2023.0,2019.0,2017.0,2018.0,2016.0,2015.0,2014.0,2022.0,2021.0,2019.0,2020.0,2017.0,2018.0,2023.0,2015.0,2016.0,2013.0,2014.0,2020.0,2021.0,2022.0,2019.0,2023.0,2018.0,2017.0,2015.0,2016.0],\n",
       "\"subreddit\":[\"MachineLearning\",\"MachineLearning\",\"MachineLearning\",\"MachineLearning\",\"MachineLearning\",\"MachineLearning\",\"MachineLearning\",\"MachineLearning\",\"MachineLearning\",\"MachineLearning\",\"artificial\",\"artificial\",\"artificial\",\"artificial\",\"artificial\",\"artificial\",\"artificial\",\"artificial\",\"artificial\",\"artificial\",\"artificial\",\"datascience\",\"datascience\",\"datascience\",\"datascience\",\"datascience\",\"datascience\",\"datascience\",\"datascience\",\"datascience\"]\n",
       "},\n",
       "\"mapping\":{\n",
       "\"x\":\"created_year\",\n",
       "\"y\":\"..count..\",\n",
       "\"color\":\"subreddit\",\n",
       "\"fill\":\"subreddit\"\n",
       "},\n",
       "\"sampling\":{\n",
       "\"name\":\"pick\",\n",
       "\"n\":50\n",
       "},\n",
       "\"data_meta\":{\n",
       "\"series_annotations\":[{\n",
       "\"column\":\"created_date\",\n",
       "\"type\":\"datetime\"\n",
       "}]\n",
       "}\n",
       "}],\n",
       "\"metainfo_list\":[]\n",
       "};\n",
       "       var plotContainer = document.getElementById(\"0OwEG5\");\n",
       "       LetsPlot.buildPlotFromProcessedSpecs(plotSpec, -1, -1, plotContainer);\n",
       "   </script>\n",
       "   </body>\n",
       "</html>"
      ]
     },
     "metadata": {},
     "output_type": "display_data"
    }
   ],
   "source": [
    "from lets_plot import * \n",
    "ggplot() + \\\n",
    "geom_bar(aes(x=\"created_year\", y=\"..count..\", color=\"subreddit\", fill=\"subreddit\"), data=posts_df, sampling=\"none\" if posts_df.size < 50 else sampling_pick(n=50)) + \\\n",
    "ggtitle(\"Number of posts by year\") "
   ]
  },
  {
   "cell_type": "markdown",
   "metadata": {
    "datalore": {
     "hide_input_from_viewers": true,
     "hide_output_from_viewers": true,
     "node_id": "ZF4vELx2zGBjGMMSEv41Ie",
     "type": "MD"
    }
   },
   "source": [
    "## 🌤 Wordcloud post titles"
   ]
  },
  {
   "cell_type": "code",
   "execution_count": 10,
   "metadata": {
    "datalore": {
     "hide_input_from_viewers": true,
     "hide_output_from_viewers": true,
     "node_id": "hK9dRE74V7lZrXpiqYFnQM",
     "type": "CODE"
    }
   },
   "outputs": [],
   "source": [
    "post_title_text = ' '.join([title for title in posts_df['post_title'].str.lower()])\n",
    "\n",
    "word_cloud = WordCloud(collocation_threshold = 2, width=1000, height=500,\n",
    "                        background_color = 'white'\n",
    "                       ).generate(post_title_text)\n",
    "\n",
    "# Display the generated Word Cloud\n",
    "plt.figure( figsize=(10,5) )\n",
    "plt.imshow(word_cloud)\n",
    "plt.axis(\"off\")\n",
    "plt.show()"
   ]
  },
  {
   "cell_type": "markdown",
   "metadata": {
    "datalore": {
     "hide_input_from_viewers": true,
     "hide_output_from_viewers": true,
     "node_id": "kUtEb8v4GsQdJAKth3YwWz",
     "type": "MD"
    }
   },
   "source": [
    "## 🌤 Wordcloud post titles by year"
   ]
  },
  {
   "cell_type": "code",
   "execution_count": 11,
   "metadata": {
    "datalore": {
     "controls_state": [
      {
       "label": "Select year",
       "max": "2023",
       "maxExpression": "2023",
       "min": "2014",
       "minExpression": "2014",
       "step": "1",
       "stepExpression": "1",
       "type": "SLIDER",
       "value": "2023",
       "variable": "selected_year"
      }
     ],
     "hide_input_from_viewers": false,
     "hide_output_from_viewers": true,
     "node_id": "YNaNKEhHaCNKN6pVNkxdYP",
     "report_properties": {
      "height": 4,
      "isDynamicHeight": false,
      "relativeY": 8,
      "rowId": "pYgRnf29WJWrwEVLXCKtqW",
      "splitHeight": 3,
      "width": 0.4583333333333365,
      "x": 0.5416666666666702
     },
     "type": "CONTROL"
    }
   },
   "outputs": [],
   "source": [
    "selected_year = 2023"
   ]
  },
  {
   "cell_type": "code",
   "execution_count": 12,
   "metadata": {
    "datalore": {
     "hide_input_from_viewers": true,
     "hide_output_from_viewers": false,
     "node_id": "LjoXLGmMIesxTAcBSr1hP3",
     "report_properties": {
      "height": 10,
      "isDynamicHeight": false,
      "relativeY": 12,
      "rowId": "pYgRnf29WJWrwEVLXCKtqW",
      "splitHeight": 2,
      "width": 0.45833333333333237,
      "x": 0.5416666666666711
     },
     "type": "CODE"
    }
   },
   "outputs": [],
   "source": [
    "posts_in_year = posts_df[posts_df['created_year'] == selected_year]\n",
    "post_title_text_year = ' '.join(item for item in posts_in_year[~posts_in_year['post_title'].isna()]['post_title'])\n",
    "\n",
    "word_cloud = WordCloud(collocation_threshold = 2, width=1000, height=500,\n",
    "                        background_color = 'white',\n",
    "                    ).generate(post_title_text_year)\n",
    "\n",
    "# Display the generated Word Cloud\n",
    "plt.figure( figsize=(10,5) )\n",
    "plt.imshow(word_cloud)\n",
    "plt.axis(\"off\")\n",
    "plt.show()"
   ]
  },
  {
   "cell_type": "markdown",
   "metadata": {
    "datalore": {
     "hide_input_from_viewers": false,
     "hide_output_from_viewers": false,
     "node_id": "12lYeSugiki8KWxJJyuGO4",
     "report_properties": {
      "relativeY": 22,
      "rowId": "pYgRnf29WJWrwEVLXCKtqW",
      "x": 0
     },
     "type": "MD"
    }
   },
   "source": [
    "## 🤔 Sentiment analysis"
   ]
  },
  {
   "cell_type": "code",
   "execution_count": 7,
   "metadata": {
    "datalore": {
     "controls_state": [
      {
       "label": "Enter word",
       "multiline": false,
       "type": "INPUT",
       "value": "chatgpt",
       "variable": "word_input"
      }
     ],
     "hide_input_from_viewers": false,
     "hide_output_from_viewers": false,
     "node_id": "BypwbdBZQH9oZaYMjTzEF5",
     "report_properties": {
      "height": 4,
      "isDynamicHeight": false,
      "relativeY": 25,
      "rowId": "pYgRnf29WJWrwEVLXCKtqW",
      "splitHeight": 3,
      "width": 1,
      "x": 0
     },
     "type": "CONTROL"
    }
   },
   "outputs": [],
   "source": [
    "word_input = \"chatgpt\""
   ]
  },
  {
   "cell_type": "code",
   "execution_count": 8,
   "metadata": {
    "datalore": {
     "hide_input_from_viewers": true,
     "hide_output_from_viewers": true,
     "node_id": "wLZk5cnXBGM9pOnl3Jummy",
     "type": "CODE"
    }
   },
   "outputs": [
    {
     "name": "stderr",
     "output_type": "stream",
     "text": [
      "emoji is not installed, thus not converting emoticons or emojis into text. Install emoji: pip3 install emoji==0.6.0\n"
     ]
    }
   ],
   "source": [
    "sentiment_classifier = pipeline(model=\"finiteautomata/bertweet-base-sentiment-analysis\")"
   ]
  },
  {
   "cell_type": "code",
   "execution_count": 9,
   "metadata": {
    "datalore": {
     "hide_input_from_viewers": true,
     "hide_output_from_viewers": true,
     "node_id": "9d0cm4hLWkNQzIqK0KyoK3",
     "type": "CODE"
    }
   },
   "outputs": [],
   "source": [
    "def get_sentiment(text):\n",
    "    # Get sentiment prediction scores\n",
    "    try:\n",
    "        sentiment = sentiment_classifier(text)[0]['label']\n",
    "    except:   \n",
    "        sentiment = 'Not classified'\n",
    "\n",
    "    return sentiment"
   ]
  },
  {
   "cell_type": "code",
   "execution_count": 10,
   "metadata": {
    "datalore": {
     "hide_input_from_viewers": true,
     "hide_output_from_viewers": true,
     "node_id": "CBjVT73u9dZe0mv18aLpJc",
     "type": "CODE"
    }
   },
   "outputs": [],
   "source": [
    "comments_posts_df_sub = comments_posts_df[comments_posts_df['post_title'].str.contains(word_input)]\n",
    "# comments_posts_df_sub"
   ]
  },
  {
   "cell_type": "code",
   "execution_count": null,
   "metadata": {
    "datalore": {
     "hide_input_from_viewers": true,
     "hide_output_from_viewers": true,
     "node_id": "9MAovWj2Wh8NktJTo9SDcl",
     "type": "CODE"
    }
   },
   "outputs": [],
   "source": [
    "comments_posts_df_sub['sentiment'] = comments_posts_df_sub['comment'].astype(str).apply(lambda x: get_sentiment(x))\n",
    "# comments_posts_df_sub"
   ]
  },
  {
   "cell_type": "code",
   "execution_count": 18,
   "metadata": {
    "datalore": {
     "hide_input_from_viewers": true,
     "hide_output_from_viewers": false,
     "node_id": "M1tbsFJ8eSyuHNXXnHHPEd",
     "report_properties": {
      "height": 13,
      "isDynamicHeight": false,
      "relativeY": 29,
      "rowId": "pYgRnf29WJWrwEVLXCKtqW",
      "splitHeight": 2,
      "width": 0.45833333333333487,
      "x": 0
     },
     "type": "CODE"
    }
   },
   "outputs": [
    {
     "data": {
      "text/html": [
       "<html lang=\"en\">\n",
       "   <head>\n",
       "       <script type=\"text/javascript\" data-lets-plot-script=\"library\" src=\"https://cdn.jsdelivr.net/gh/JetBrains/lets-plot@v3.1.0/js-package/distr/lets-plot.min.js\"></script>\n",
       "   </head>\n",
       "   <body>\n",
       "          <div id=\"fANOwt\"></div>\n",
       "   <script type=\"text/javascript\" data-lets-plot-script=\"plot\">\n",
       "       var plotSpec={\n",
       "\"data\":{\n",
       "},\n",
       "\"mapping\":{\n",
       "},\n",
       "\"data_meta\":{\n",
       "\"series_annotations\":[{\n",
       "\"column\":\"created_date\",\n",
       "\"type\":\"datetime\"\n",
       "}]\n",
       "},\n",
       "\"theme\":{\n",
       "\"line\":{\n",
       "\"blank\":true\n",
       "},\n",
       "\"axis_title\":{\n",
       "\"blank\":true\n",
       "},\n",
       "\"axis_text\":{\n",
       "\"blank\":true\n",
       "},\n",
       "\"legend_position\":\"none\"\n",
       "},\n",
       "\"ggtitle\":{\n",
       "\"text\":\"Sentiment of around the topic\"\n",
       "},\n",
       "\"kind\":\"plot\",\n",
       "\"scales\":[],\n",
       "\"layers\":[{\n",
       "\"geom\":\"pie\",\n",
       "\"mapping\":{\n",
       "\"fill\":\"@as_discrete@sentiment\"\n",
       "},\n",
       "\"data_meta\":{\n",
       "\"mapping_annotations\":[{\n",
       "\"aes\":\"fill\",\n",
       "\"annotation\":\"as_discrete\",\n",
       "\"parameters\":{\n",
       "\"label\":\"sentiment\",\n",
       "\"order_by\":\"..count..\"\n",
       "}\n",
       "}]\n",
       "},\n",
       "\"labels\":{\n",
       "\"formats\":[{\n",
       "\"field\":\"..prop..\",\n",
       "\"format\":\".0%\"\n",
       "}],\n",
       "\"lines\":[\"@sentiment\",\"(@{..prop..})\"]\n",
       "},\n",
       "\"hole\":0.2,\n",
       "\"stroke\":1.0,\n",
       "\"size\":30,\n",
       "\"data\":{\n",
       "\"..x..\":[0.0,0.0,0.0,0.0],\n",
       "\"..y..\":[0.0,0.0,0.0,0.0],\n",
       "\"..count..\":[27.0,24.0,11.0,9.0],\n",
       "\"@as_discrete@sentiment\":[\"NEU\",\"NEG\",\"POS\",\"Not classified\"],\n",
       "\"sentiment\":[\"NEU\",\"NEG\",\"POS\",\"Not classified\"],\n",
       "\"..prop..\":[0.38028169014084506,0.3380281690140845,0.15492957746478872,0.1267605633802817]\n",
       "}\n",
       "}],\n",
       "\"metainfo_list\":[]\n",
       "};\n",
       "       var plotContainer = document.getElementById(\"fANOwt\");\n",
       "       LetsPlot.buildPlotFromProcessedSpecs(plotSpec, -1, -1, plotContainer);\n",
       "   </script>\n",
       "   </body>\n",
       "</html>"
      ]
     },
     "metadata": {},
     "output_type": "display_data"
    }
   ],
   "source": [
    "# Lets-plot library https://lets-plot.org/index.html\n",
    "from lets_plot import *\n",
    "from lets_plot.mapping import *\n",
    "\n",
    "ggplot(comments_posts_df_sub) + geom_pie(aes(fill=as_discrete('sentiment', order_by='..count..')), \n",
    "                                            size=30, hole=0.2, stroke=1.0, \n",
    "                                            labels=layer_labels()\n",
    "                                                    .line('@sentiment')\n",
    "                                                    .line('(@{..prop..})')\n",
    "                                                    .format('..prop..', '.0%')\n",
    "                                        ) \\\n",
    "                              + theme(line=element_blank(), axis_text=element_blank(), \n",
    "                                      axis_title=element_blank(), legend_position='none') \\\n",
    "                              + ggtitle('Sentiment of around the topic')"
   ]
  },
  {
   "cell_type": "markdown",
   "metadata": {
    "datalore": {
     "hide_input_from_viewers": true,
     "hide_output_from_viewers": true,
     "node_id": "wUX6vo551TkjLA2hiJSZnW",
     "type": "MD"
    }
   },
   "source": [
    "## 🤯 Emotion recognition"
   ]
  },
  {
   "cell_type": "code",
   "execution_count": 19,
   "metadata": {
    "datalore": {
     "hide_input_from_viewers": true,
     "hide_output_from_viewers": true,
     "node_id": "VgWfZ2LoV7mNHTh1nyKSgs",
     "type": "CODE"
    }
   },
   "outputs": [
    {
     "data": {
      "application/vnd.jupyter.widget-view+json": {
       "model_id": "f133acceb4c94b45a2ac53700b73d6ba",
       "version_major": 2,
       "version_minor": 0
      }
     },
     "metadata": {
      "application/vnd.jupyter.widget-view+json": {
       "datalore": {
        "widget_id": "JXcmQ9uvVpV4vf9GeFdlmz"
       }
      }
     },
     "output_type": "display_data"
    },
    {
     "data": {
      "application/vnd.jupyter.widget-view+json": {
       "model_id": "e503a74802fb44da925f591e6bd4601e",
       "version_major": 2,
       "version_minor": 0
      }
     },
     "metadata": {
      "application/vnd.jupyter.widget-view+json": {
       "datalore": {
        "widget_id": "6g59CHAUrQKVHVMFSXdUzl"
       }
      }
     },
     "output_type": "display_data"
    },
    {
     "data": {
      "application/vnd.jupyter.widget-view+json": {
       "model_id": "899c151f121a4d43b48620bc7c0df603",
       "version_major": 2,
       "version_minor": 0
      }
     },
     "metadata": {
      "application/vnd.jupyter.widget-view+json": {
       "datalore": {
        "widget_id": "gvtHhbJQKyWqpaudOAgiry"
       }
      }
     },
     "output_type": "display_data"
    },
    {
     "data": {
      "application/vnd.jupyter.widget-view+json": {
       "model_id": "48e7c015355e43f391fce217f8a645f2",
       "version_major": 2,
       "version_minor": 0
      }
     },
     "metadata": {
      "application/vnd.jupyter.widget-view+json": {
       "datalore": {
        "widget_id": "YDc6xrfo2lBgZVgv1QWlHp"
       }
      }
     },
     "output_type": "display_data"
    },
    {
     "data": {
      "application/vnd.jupyter.widget-view+json": {
       "model_id": "44f0a15e30af461396f119a27f918ed2",
       "version_major": 2,
       "version_minor": 0
      }
     },
     "metadata": {
      "application/vnd.jupyter.widget-view+json": {
       "datalore": {
        "widget_id": "wD6o1GDIumTLHnpWvBtaBK"
       }
      }
     },
     "output_type": "display_data"
    }
   ],
   "source": [
    "emotion_classifier = pipeline(\"text-classification\",model='bhadresh-savani/distilbert-base-uncased-emotion', return_all_scores=True)"
   ]
  },
  {
   "cell_type": "code",
   "execution_count": 27,
   "metadata": {
    "datalore": {
     "hide_input_from_viewers": true,
     "hide_output_from_viewers": true,
     "node_id": "F9q8WoProQ6aJcGAImJRsZ",
     "type": "CODE"
    }
   },
   "outputs": [],
   "source": [
    "def get_emotion(text):\n",
    "    # Get emotion prediction scores\n",
    "    pred_scores = emotion_classifier(text)\n",
    "\n",
    "    # Get emotion with highest prediction score\n",
    "    emotion = max(pred_scores[0], key=lambda x: x['score'])['label']\n",
    "\n",
    "    return emotion"
   ]
  },
  {
   "cell_type": "code",
   "execution_count": 18,
   "metadata": {
    "datalore": {
     "hide_input_from_viewers": true,
     "hide_output_from_viewers": true,
     "node_id": "wbsbwKVvuouNEXmPHpFTnv",
     "type": "CODE"
    }
   },
   "outputs": [
    {
     "name": "stderr",
     "output_type": "stream",
     "text": [
      "<ipython-input-18-6681ae18edfe>:1: SettingWithCopyWarning: \n",
      "A value is trying to be set on a copy of a slice from a DataFrame.\n",
      "Try using .loc[row_indexer,col_indexer] = value instead\n",
      "\n",
      "See the caveats in the documentation: https://pandas.pydata.org/pandas-docs/stable/user_guide/indexing.html#returning-a-view-versus-a-copy\n",
      "  comments_posts_df_sub['emotion'] = comments_posts_df_sub['comment'].astype(str).apply(lambda x: get_emotion(x))\n"
     ]
    },
    {
     "data": {
      "text/html": [
       "<div>\n",
       "<style scoped>\n",
       "    .dataframe tbody tr th:only-of-type {\n",
       "        vertical-align: middle;\n",
       "    }\n",
       "\n",
       "    .dataframe tbody tr th {\n",
       "        vertical-align: top;\n",
       "    }\n",
       "\n",
       "    .dataframe thead th {\n",
       "        text-align: right;\n",
       "    }\n",
       "</style>\n",
       "<table border=\"1\" class=\"dataframe\">\n",
       "  <thead>\n",
       "    <tr style=\"text-align: right;\">\n",
       "      <th></th>\n",
       "      <th>post_id</th>\n",
       "      <th>subreddit</th>\n",
       "      <th>created_utc</th>\n",
       "      <th>selftext</th>\n",
       "      <th>post_url</th>\n",
       "      <th>post_title</th>\n",
       "      <th>link_flair_text</th>\n",
       "      <th>score</th>\n",
       "      <th>num_comments</th>\n",
       "      <th>upvote_ratio</th>\n",
       "      <th>created_date</th>\n",
       "      <th>created_year</th>\n",
       "      <th>comment</th>\n",
       "      <th>sentiment</th>\n",
       "      <th>emotion</th>\n",
       "    </tr>\n",
       "  </thead>\n",
       "  <tbody>\n",
       "    <tr>\n",
       "      <th>97310</th>\n",
       "      <td>1174kud</td>\n",
       "      <td>artificial</td>\n",
       "      <td>1.676893e+09</td>\n",
       "      <td>NaN</td>\n",
       "      <td>https://i.redd.it/g6c8lxiygdja1.jpg</td>\n",
       "      <td>fine, let's just get chatgpt cancelled💀</td>\n",
       "      <td>News</td>\n",
       "      <td>252</td>\n",
       "      <td>54</td>\n",
       "      <td>0.79</td>\n",
       "      <td>2023-02-20 11:42:57</td>\n",
       "      <td>2023</td>\n",
       "      <td>How many time has this picture been screen cap...</td>\n",
       "      <td>NEG</td>\n",
       "      <td>sadness</td>\n",
       "    </tr>\n",
       "    <tr>\n",
       "      <th>97311</th>\n",
       "      <td>1174kud</td>\n",
       "      <td>artificial</td>\n",
       "      <td>1.676893e+09</td>\n",
       "      <td>NaN</td>\n",
       "      <td>https://i.redd.it/g6c8lxiygdja1.jpg</td>\n",
       "      <td>fine, let's just get chatgpt cancelled💀</td>\n",
       "      <td>News</td>\n",
       "      <td>252</td>\n",
       "      <td>54</td>\n",
       "      <td>0.79</td>\n",
       "      <td>2023-02-20 11:42:57</td>\n",
       "      <td>2023</td>\n",
       "      <td>Unbased gpt</td>\n",
       "      <td>NEU</td>\n",
       "      <td>fear</td>\n",
       "    </tr>\n",
       "    <tr>\n",
       "      <th>97312</th>\n",
       "      <td>1174kud</td>\n",
       "      <td>artificial</td>\n",
       "      <td>1.676893e+09</td>\n",
       "      <td>NaN</td>\n",
       "      <td>https://i.redd.it/g6c8lxiygdja1.jpg</td>\n",
       "      <td>fine, let's just get chatgpt cancelled💀</td>\n",
       "      <td>News</td>\n",
       "      <td>252</td>\n",
       "      <td>54</td>\n",
       "      <td>0.79</td>\n",
       "      <td>2023-02-20 11:42:57</td>\n",
       "      <td>2023</td>\n",
       "      <td>THIS IS BRAND NEW INFORMATION</td>\n",
       "      <td>POS</td>\n",
       "      <td>joy</td>\n",
       "    </tr>\n",
       "    <tr>\n",
       "      <th>97313</th>\n",
       "      <td>1174kud</td>\n",
       "      <td>artificial</td>\n",
       "      <td>1.676893e+09</td>\n",
       "      <td>NaN</td>\n",
       "      <td>https://i.redd.it/g6c8lxiygdja1.jpg</td>\n",
       "      <td>fine, let's just get chatgpt cancelled💀</td>\n",
       "      <td>News</td>\n",
       "      <td>252</td>\n",
       "      <td>54</td>\n",
       "      <td>0.79</td>\n",
       "      <td>2023-02-20 11:42:57</td>\n",
       "      <td>2023</td>\n",
       "      <td>Here’s some actual data on cgpt bias for anyon...</td>\n",
       "      <td>NEU</td>\n",
       "      <td>joy</td>\n",
       "    </tr>\n",
       "    <tr>\n",
       "      <th>97314</th>\n",
       "      <td>1174kud</td>\n",
       "      <td>artificial</td>\n",
       "      <td>1.676893e+09</td>\n",
       "      <td>NaN</td>\n",
       "      <td>https://i.redd.it/g6c8lxiygdja1.jpg</td>\n",
       "      <td>fine, let's just get chatgpt cancelled💀</td>\n",
       "      <td>News</td>\n",
       "      <td>252</td>\n",
       "      <td>54</td>\n",
       "      <td>0.79</td>\n",
       "      <td>2023-02-20 11:42:57</td>\n",
       "      <td>2023</td>\n",
       "      <td>This ethical censorship bs just needs to go al...</td>\n",
       "      <td>NEG</td>\n",
       "      <td>anger</td>\n",
       "    </tr>\n",
       "    <tr>\n",
       "      <th>...</th>\n",
       "      <td>...</td>\n",
       "      <td>...</td>\n",
       "      <td>...</td>\n",
       "      <td>...</td>\n",
       "      <td>...</td>\n",
       "      <td>...</td>\n",
       "      <td>...</td>\n",
       "      <td>...</td>\n",
       "      <td>...</td>\n",
       "      <td>...</td>\n",
       "      <td>...</td>\n",
       "      <td>...</td>\n",
       "      <td>...</td>\n",
       "      <td>...</td>\n",
       "      <td>...</td>\n",
       "    </tr>\n",
       "    <tr>\n",
       "      <th>108261</th>\n",
       "      <td>104nxq2</td>\n",
       "      <td>artificial</td>\n",
       "      <td>1.672990e+09</td>\n",
       "      <td>after using chatgpt for a couple of weeks, ive...</td>\n",
       "      <td>https://www.reddit.com/r/artificial/comments/1...</td>\n",
       "      <td>chatgpt has massively improved my productivity...</td>\n",
       "      <td>Question</td>\n",
       "      <td>104</td>\n",
       "      <td>18</td>\n",
       "      <td>0.93</td>\n",
       "      <td>2023-01-06 07:25:29</td>\n",
       "      <td>2023</td>\n",
       "      <td>it would probably be able to do that, its a bi...</td>\n",
       "      <td>NEU</td>\n",
       "      <td>anger</td>\n",
       "    </tr>\n",
       "    <tr>\n",
       "      <th>108262</th>\n",
       "      <td>104nxq2</td>\n",
       "      <td>artificial</td>\n",
       "      <td>1.672990e+09</td>\n",
       "      <td>after using chatgpt for a couple of weeks, ive...</td>\n",
       "      <td>https://www.reddit.com/r/artificial/comments/1...</td>\n",
       "      <td>chatgpt has massively improved my productivity...</td>\n",
       "      <td>Question</td>\n",
       "      <td>104</td>\n",
       "      <td>18</td>\n",
       "      <td>0.93</td>\n",
       "      <td>2023-01-06 07:25:29</td>\n",
       "      <td>2023</td>\n",
       "      <td>You.com is built on GPT, so not exactly a comp...</td>\n",
       "      <td>NEU</td>\n",
       "      <td>anger</td>\n",
       "    </tr>\n",
       "    <tr>\n",
       "      <th>108263</th>\n",
       "      <td>104nxq2</td>\n",
       "      <td>artificial</td>\n",
       "      <td>1.672990e+09</td>\n",
       "      <td>after using chatgpt for a couple of weeks, ive...</td>\n",
       "      <td>https://www.reddit.com/r/artificial/comments/1...</td>\n",
       "      <td>chatgpt has massively improved my productivity...</td>\n",
       "      <td>Question</td>\n",
       "      <td>104</td>\n",
       "      <td>18</td>\n",
       "      <td>0.93</td>\n",
       "      <td>2023-01-06 07:25:29</td>\n",
       "      <td>2023</td>\n",
       "      <td>interesitng thanks ill check it out.\\n\\nwhats ...</td>\n",
       "      <td>Not classified</td>\n",
       "      <td>anger</td>\n",
       "    </tr>\n",
       "    <tr>\n",
       "      <th>108264</th>\n",
       "      <td>104nxq2</td>\n",
       "      <td>artificial</td>\n",
       "      <td>1.672990e+09</td>\n",
       "      <td>after using chatgpt for a couple of weeks, ive...</td>\n",
       "      <td>https://www.reddit.com/r/artificial/comments/1...</td>\n",
       "      <td>chatgpt has massively improved my productivity...</td>\n",
       "      <td>Question</td>\n",
       "      <td>104</td>\n",
       "      <td>18</td>\n",
       "      <td>0.93</td>\n",
       "      <td>2023-01-06 07:25:29</td>\n",
       "      <td>2023</td>\n",
       "      <td>For me it has been a game changer. Keep in min...</td>\n",
       "      <td>POS</td>\n",
       "      <td>joy</td>\n",
       "    </tr>\n",
       "    <tr>\n",
       "      <th>108265</th>\n",
       "      <td>104nxq2</td>\n",
       "      <td>artificial</td>\n",
       "      <td>1.672990e+09</td>\n",
       "      <td>after using chatgpt for a couple of weeks, ive...</td>\n",
       "      <td>https://www.reddit.com/r/artificial/comments/1...</td>\n",
       "      <td>chatgpt has massively improved my productivity...</td>\n",
       "      <td>Question</td>\n",
       "      <td>104</td>\n",
       "      <td>18</td>\n",
       "      <td>0.93</td>\n",
       "      <td>2023-01-06 07:25:29</td>\n",
       "      <td>2023</td>\n",
       "      <td>thats awesome, one thing i hate doing is writi...</td>\n",
       "      <td>Not classified</td>\n",
       "      <td>joy</td>\n",
       "    </tr>\n",
       "  </tbody>\n",
       "</table>\n",
       "<p>71 rows × 15 columns</p>\n",
       "</div>"
      ]
     },
     "metadata": {},
     "output_type": "display_data"
    }
   ],
   "source": [
    "comments_posts_df_sub['emotion'] = comments_posts_df_sub['comment'].astype(str).apply(lambda x: get_emotion(x))\n",
    "comments_posts_df_sub"
   ]
  },
  {
   "cell_type": "code",
   "execution_count": 19,
   "metadata": {
    "datalore": {
     "hide_input_from_viewers": false,
     "hide_output_from_viewers": false,
     "node_id": "ds2TGX42aDcTEKDVNwnual",
     "plot_state": {
      "label": "Emotions around the topic",
      "plots": [
       {
        "colorAxis": {
         "label": "",
         "scale": "NONE"
        },
        "type": "BAR",
        "variable": "comments_posts_df_sub",
        "xAxis": {
         "label": "",
         "scale": "NONE",
         "value": "emotion"
        },
        "yAxis": {
         "label": "",
         "scale": "NONE",
         "value": "COUNT(*)"
        }
       }
      ],
      "reactive": true,
      "sampling": true
     },
     "report_properties": {
      "height": 13,
      "isDynamicHeight": false,
      "relativeY": 29,
      "rowId": "pYgRnf29WJWrwEVLXCKtqW",
      "splitHeight": 2,
      "width": 0.5416666666666654,
      "x": 0.45833333333333487
     },
     "type": "PLOT"
    }
   },
   "outputs": [
    {
     "data": {
      "text/html": [
       "<html lang=\"en\">\n",
       "   <head>\n",
       "       <script type=\"text/javascript\" data-lets-plot-script=\"library\" src=\"https://cdn.jsdelivr.net/gh/JetBrains/lets-plot@v3.1.0/js-package/distr/lets-plot.min.js\"></script>\n",
       "   </head>\n",
       "   <body>\n",
       "          <div id=\"gj6HMK\"></div>\n",
       "   <script type=\"text/javascript\" data-lets-plot-script=\"plot\">\n",
       "       var plotSpec={\n",
       "\"mapping\":{\n",
       "},\n",
       "\"data_meta\":{\n",
       "},\n",
       "\"ggtitle\":{\n",
       "\"text\":\"Emotions around the topic\"\n",
       "},\n",
       "\"kind\":\"plot\",\n",
       "\"scales\":[],\n",
       "\"layers\":[{\n",
       "\"geom\":\"bar\",\n",
       "\"data\":{\n",
       "\"..count..\":[8.0,4.0,29.0,27.0,2.0,1.0],\n",
       "\"emotion\":[\"sadness\",\"fear\",\"joy\",\"anger\",\"surprise\",\"love\"]\n",
       "},\n",
       "\"mapping\":{\n",
       "\"x\":\"emotion\",\n",
       "\"y\":\"..count..\"\n",
       "},\n",
       "\"sampling\":{\n",
       "\"name\":\"pick\",\n",
       "\"n\":50\n",
       "},\n",
       "\"data_meta\":{\n",
       "\"series_annotations\":[{\n",
       "\"column\":\"created_date\",\n",
       "\"type\":\"datetime\"\n",
       "}]\n",
       "}\n",
       "}],\n",
       "\"metainfo_list\":[]\n",
       "};\n",
       "       var plotContainer = document.getElementById(\"gj6HMK\");\n",
       "       LetsPlot.buildPlotFromProcessedSpecs(plotSpec, -1, -1, plotContainer);\n",
       "   </script>\n",
       "   </body>\n",
       "</html>"
      ]
     },
     "metadata": {},
     "output_type": "display_data"
    }
   ],
   "source": [
    "from lets_plot import * \n",
    "ggplot() + \\\n",
    "geom_bar(aes(x=\"emotion\", y=\"..count..\"), data=comments_posts_df_sub, sampling=\"none\" if comments_posts_df_sub.size < 50 else sampling_pick(n=50)) + \\\n",
    "ggtitle(\"Emotions around the topic\") "
   ]
  },
  {
   "cell_type": "markdown",
   "metadata": {
    "datalore": {
     "hide_input_from_viewers": true,
     "hide_output_from_viewers": false,
     "node_id": "OOkN7qF9iSoa7812VqYAbu",
     "report_properties": {
      "relativeY": 42,
      "rowId": "pYgRnf29WJWrwEVLXCKtqW",
      "x": 0
     },
     "type": "MD"
    }
   },
   "source": [
    "# 🤖 Ask-Me-Anything chatbot (ChatGPT API + Reddit data)"
   ]
  },
  {
   "cell_type": "code",
   "execution_count": 20,
   "metadata": {
    "datalore": {
     "hide_input_from_viewers": true,
     "hide_output_from_viewers": true,
     "node_id": "ph9k0f6mDj3zWevUvXCin1",
     "type": "CODE"
    }
   },
   "outputs": [],
   "source": [
    "# Import modules from llama_index and langchain\n",
    "from llama_index import SimpleDirectoryReader, GPTSimpleVectorIndex, LLMPredictor, PromptHelper\n",
    "from langchain import OpenAI\n",
    "import os\n",
    "from IPython.display import Markdown, display"
   ]
  },
  {
   "cell_type": "code",
   "execution_count": 29,
   "metadata": {
    "datalore": {
     "hide_input_from_viewers": true,
     "hide_output_from_viewers": true,
     "node_id": "fNLDdCmFaHuX948hWWgZE3",
     "type": "CODE"
    }
   },
   "outputs": [
    {
     "data": {
      "text/html": [
       "<div>\n",
       "<style scoped>\n",
       "    .dataframe tbody tr th:only-of-type {\n",
       "        vertical-align: middle;\n",
       "    }\n",
       "\n",
       "    .dataframe tbody tr th {\n",
       "        vertical-align: top;\n",
       "    }\n",
       "\n",
       "    .dataframe thead th {\n",
       "        text-align: right;\n",
       "    }\n",
       "</style>\n",
       "<table border=\"1\" class=\"dataframe\">\n",
       "  <thead>\n",
       "    <tr style=\"text-align: right;\">\n",
       "      <th></th>\n",
       "      <th>post_title</th>\n",
       "      <th>selftext</th>\n",
       "      <th>comment</th>\n",
       "    </tr>\n",
       "  </thead>\n",
       "  <tbody>\n",
       "    <tr>\n",
       "      <th>0</th>\n",
       "      <td>\"Artificial Imagination\" - AI generated</td>\n",
       "      <td>nan</td>\n",
       "      <td>Why does everything look familiar but nothing ...</td>\n",
       "    </tr>\n",
       "    <tr>\n",
       "      <th>1</th>\n",
       "      <td>\"At least 40% of startups in Europe that claim...</td>\n",
       "      <td>**Read Article:** [https://www.theverge.com/20...</td>\n",
       "      <td>That's much smaller than I expected. I'd expec...</td>\n",
       "    </tr>\n",
       "    <tr>\n",
       "      <th>2</th>\n",
       "      <td>\"Do I need to know {insert advanced math} to g...</td>\n",
       "      <td>These posts occur with some regularity, and {i...</td>\n",
       "      <td>&gt;These posts occur with some regularity, and {...</td>\n",
       "    </tr>\n",
       "    <tr>\n",
       "      <th>3</th>\n",
       "      <td>\"Floraison d'hiver\" (Winter Bloom), creating d...</td>\n",
       "      <td>nan</td>\n",
       "      <td>Hello everyone!\\n\\nThis is my \"Floraison d'hiv...</td>\n",
       "    </tr>\n",
       "    <tr>\n",
       "      <th>4</th>\n",
       "      <td>\"Humans can decipher adversarial images\": A st...</td>\n",
       "      <td>nan</td>\n",
       "      <td>(spends a 100 years teaching computers to thin...</td>\n",
       "    </tr>\n",
       "    <tr>\n",
       "      <th>...</th>\n",
       "      <td>...</td>\n",
       "      <td>...</td>\n",
       "      <td>...</td>\n",
       "    </tr>\n",
       "    <tr>\n",
       "      <th>2961</th>\n",
       "      <td>📌[Searchcolab] \"Gotham during Recession\" Link ...</td>\n",
       "      <td>nan</td>\n",
       "      <td>These are fucking hilarious.. Spiderman in Got...</td>\n",
       "    </tr>\n",
       "    <tr>\n",
       "      <th>2962</th>\n",
       "      <td>📌[Searchcolab] Text-To-4D Dynamic Scene Genera...</td>\n",
       "      <td>nan</td>\n",
       "      <td>I figured this must be around the corner with ...</td>\n",
       "    </tr>\n",
       "    <tr>\n",
       "      <th>2963</th>\n",
       "      <td>😱 AI Senses People Through Walls - by MIT</td>\n",
       "      <td>nan</td>\n",
       "      <td>Wall hacks. Great for RoboCop prototypes. No l...</td>\n",
       "    </tr>\n",
       "    <tr>\n",
       "      <th>2964</th>\n",
       "      <td>😲 Types of Artificial Intelligence</td>\n",
       "      <td>nan</td>\n",
       "      <td>Although this seems possible and is the roadma...</td>\n",
       "    </tr>\n",
       "    <tr>\n",
       "      <th>2965</th>\n",
       "      <td>🧱 Using AI to detect what can be built from yo...</td>\n",
       "      <td>nan</td>\n",
       "      <td>Awesome 👌. This is amazing.... but - good luck...</td>\n",
       "    </tr>\n",
       "  </tbody>\n",
       "</table>\n",
       "<p>2966 rows × 3 columns</p>\n",
       "</div>"
      ]
     },
     "metadata": {},
     "output_type": "display_data"
    }
   ],
   "source": [
    "# Combine all posts and comments and save to a text file\n",
    "comments_posts_df_tmp = comments_posts_df[['post_title', 'selftext','comment']].astype(str)\n",
    "agg_comments = comments_posts_df_tmp.groupby(['post_title', 'selftext'])['comment'].apply('. '.join).reset_index()\n",
    "agg_comments"
   ]
  },
  {
   "cell_type": "code",
   "execution_count": 23,
   "metadata": {
    "datalore": {
     "hide_input_from_viewers": true,
     "hide_output_from_viewers": true,
     "node_id": "oNs4QKBgoOtsMd8Qg2yzsU",
     "type": "CODE"
    }
   },
   "outputs": [],
   "source": [
    "# (ONLY NEED TO RUN AND SAVE ONCE)\n",
    "# agg_comments['combined_text'] = agg_comments.astype(str).agg('. '.join, axis=1)\n",
    "# all_text = ' '.join(agg_comments['combined_text'])\n",
    "\n",
    "# Save text to txt file\n",
    "# f = open(\"textdata/all_text_reddit.txt\", \"w\") \n",
    "# f.write(all_text)\n",
    "# f.close()"
   ]
  },
  {
   "cell_type": "code",
   "execution_count": 21,
   "metadata": {
    "datalore": {
     "hide_input_from_viewers": true,
     "hide_output_from_viewers": true,
     "node_id": "tcOuW4aTjpUK4wUXwYMK83",
     "type": "CODE"
    }
   },
   "outputs": [],
   "source": [
    "# Adapted based on LlamaIndex documentation https://gpt-index.readthedocs.io/en/latest/index.html\n",
    "# and Dan Shipper's work https://www.lennysnewsletter.com/p/i-built-a-lenny-chatbot-using-gpt\n",
    "\n",
    "def construct_index(directory_path):\n",
    "    # set maximum input size\n",
    "    max_input_size = 4096\n",
    "    # set number of output tokens\n",
    "    num_outputs = 256\n",
    "    # set maximum chunk overlap\n",
    "    max_chunk_overlap = 20\n",
    "    # set chunk size limit\n",
    "    chunk_size_limit = 600\n",
    "\n",
    "    # define LLM (ChatGPT gpt-3.5-turbo)\n",
    "    llm_predictor = LLMPredictor(llm=OpenAI(temperature=0, model_name=\"gpt-3.5-turbo\", max_tokens=num_outputs))\n",
    "    prompt_helper = PromptHelper(max_input_size, num_outputs, max_chunk_overlap, chunk_size_limit=chunk_size_limit)\n",
    " \n",
    "    documents = SimpleDirectoryReader(directory_path).load_data()\n",
    "    \n",
    "    index = GPTSimpleVectorIndex(\n",
    "        documents, llm_predictor=llm_predictor, prompt_helper=prompt_helper\n",
    "    )\n",
    "\n",
    "    index.save_to_disk('index.json')\n",
    "\n",
    "    return index\n",
    "\n",
    "\n",
    "def ask_me_anything(question):\n",
    "\n",
    "    index = GPTSimpleVectorIndex.load_from_disk('index.json')\n",
    "    response = index.query(question, response_mode=\"compact\")\n",
    "\n",
    "    display(Markdown(f\"You asked: <b>{question}</b>\"))\n",
    "    display(Markdown(f\"Bot says: <b>{response.response}</b>\"))"
   ]
  },
  {
   "cell_type": "code",
   "execution_count": 32,
   "metadata": {
    "datalore": {
     "controls_state": [
      {
       "label": "Your API key",
       "multiline": false,
       "type": "INPUT",
       "value": "XXXXX",
       "variable": "openai_key"
      }
     ],
     "hide_input_from_viewers": false,
     "hide_output_from_viewers": true,
     "node_id": "2maRcRy8I3dEW2qbOh2wsF",
     "report_properties": {
      "height": 5,
      "isDynamicHeight": false,
      "relativeY": 0,
      "rowId": "aei0uiJ9LwlaAM0egnUjag",
      "splitHeight": 2,
      "width": 0.375000000000002,
      "x": 0
     },
     "type": "CONTROL"
    }
   },
   "outputs": [],
   "source": [
    "openai_key = \"XXXXX\""
   ]
  },
  {
   "cell_type": "code",
   "execution_count": 23,
   "metadata": {
    "datalore": {
     "hide_input_from_viewers": true,
     "hide_output_from_viewers": true,
     "node_id": "Pt4a8FWYgHqC2xKdlxSy6S",
     "type": "CODE"
    }
   },
   "outputs": [],
   "source": [
    "# Set OpenAI key\n",
    "os.environ[\"OPENAI_API_KEY\"] = openai_key"
   ]
  },
  {
   "cell_type": "code",
   "execution_count": 7,
   "metadata": {
    "datalore": {
     "hide_input_from_viewers": true,
     "hide_output_from_viewers": true,
     "node_id": "SsbltSAal4V3ulBYzlMshE",
     "type": "CODE"
    }
   },
   "outputs": [],
   "source": [
    "# Construct our index (ONLY NEED TO RUN ONCE! BE CAREFUL THAT THIS COSTS MONEY)\n",
    "# This will take every file in folder, split it into chunks, and embed it with OpenAI's embeddings API. \n",
    "construct_index('/data/notebook_files/textdata')"
   ]
  },
  {
   "cell_type": "code",
   "execution_count": 29,
   "metadata": {
    "datalore": {
     "controls_state": [
      {
       "label": "Hi! What do you want to ask me?",
       "multiline": true,
       "type": "INPUT",
       "value": "Is it hard to learn data science?",
       "variable": "question"
      }
     ],
     "hide_input_from_viewers": false,
     "hide_output_from_viewers": true,
     "node_id": "BPAzLjyvxfdPGT60lhAwUO",
     "report_properties": {
      "height": 5,
      "isDynamicHeight": false,
      "relativeY": 0,
      "rowId": "aei0uiJ9LwlaAM0egnUjag",
      "splitHeight": 4,
      "width": 0.5833333333333374,
      "x": 0.3750000000000026
     },
     "type": "CONTROL"
    }
   },
   "outputs": [],
   "source": [
    "question = \"Is it hard to learn data science?\""
   ]
  },
  {
   "cell_type": "code",
   "execution_count": 30,
   "metadata": {
    "datalore": {
     "hide_input_from_viewers": true,
     "hide_output_from_viewers": false,
     "node_id": "NyQm6o1pYtSJ5dxWtMH1Xx",
     "report_properties": {
      "relativeY": 5,
      "rowId": "aei0uiJ9LwlaAM0egnUjag"
     },
     "type": "CODE"
    }
   },
   "outputs": [
    {
     "name": "stderr",
     "output_type": "stream",
     "text": [
      "INFO:root:> [query] Total LLM token usage: 637 tokens\n",
      "INFO:root:> [query] Total embedding token usage: 8 tokens\n"
     ]
    },
    {
     "data": {
      "text/markdown": [
       "You asked: <b>Is it hard to learn data science?</b>"
      ]
     },
     "metadata": {},
     "output_type": "display_data"
    },
    {
     "data": {
      "text/markdown": [
       "Bot says: <b>\n",
       "No, it is not hard to learn data science. Data science involves the use of data to solve problems and make decisions. It requires knowledge of mathematics, statistics, computer science, and other related fields. With the right resources and dedication, anyone can learn the basics of data science.</b>"
      ]
     },
     "metadata": {},
     "output_type": "display_data"
    }
   ],
   "source": [
    "# Run Reddit chatbot\n",
    "ask_me_anything(question)"
   ]
  },
  {
   "cell_type": "code",
   "execution_count": null,
   "metadata": {
    "datalore": {
     "hide_input_from_viewers": true,
     "hide_output_from_viewers": true,
     "node_id": "GoUxTEVvxm1Tf21UjWiHYS",
     "type": "CODE"
    }
   },
   "outputs": [],
   "source": []
  }
 ],
 "metadata": {
  "datalore": {
   "base_environment": "default",
   "computation_mode": "JUPYTER",
   "package_manager": "pip",
   "packages": [
    {
     "name": "wordcloud",
     "source": "PIP"
    },
    {
     "name": "llama-index",
     "source": "PIP"
    }
   ],
   "report_row_ids": [
    "RVVcVw3YmjulAQr6cqwiht",
    "29BAf50h7CsFjfQTGs2mnN",
    "pYgRnf29WJWrwEVLXCKtqW",
    "aei0uiJ9LwlaAM0egnUjag"
   ],
   "version": 2
  },
  "kernelspec": {
   "display_name": "Python 3 (ipykernel)",
   "language": "python",
   "name": "python3"
  },
  "language_info": {
   "codemirror_mode": {
    "name": "ipython",
    "version": 3
   },
   "file_extension": ".py",
   "mimetype": "text/x-python",
   "name": "python",
   "nbconvert_exporter": "python",
   "pygments_lexer": "ipython3",
   "version": "3.11.2"
  },
  "widgets": {
   "application/vnd.jupyter.widget-state+json": {
    "state": {
     "04f1d8fd96fb4f12b92453fb3823ee92": {
      "model_module": "@jupyter-widgets/controls",
      "model_module_version": "1.5.0",
      "model_name": "ProgressStyleModel",
      "state": {
       "description_width": ""
      }
     },
     "052af338c01246b4b2be673e2e9f650f": {
      "model_module": "@jupyter-widgets/base",
      "model_module_version": "1.2.0",
      "model_name": "LayoutModel",
      "state": {}
     },
     "064e020989744eb88ce4120755ecf579": {
      "model_module": "@jupyter-widgets/controls",
      "model_module_version": "1.5.0",
      "model_name": "ProgressStyleModel",
      "state": {
       "description_width": ""
      }
     },
     "06e5319eb46e48009ae9a19fb0a6defd": {
      "model_module": "@jupyter-widgets/controls",
      "model_module_version": "1.5.0",
      "model_name": "FloatProgressModel",
      "state": {
       "bar_style": "success",
       "layout": "IPY_MODEL_bcc280c13b944851811f492f54287f63",
       "max": 291,
       "style": "IPY_MODEL_064e020989744eb88ce4120755ecf579",
       "value": 291
      }
     },
     "0da27902c8f547f393d1019bf70e8fad": {
      "model_module": "@jupyter-widgets/controls",
      "model_module_version": "1.5.0",
      "model_name": "DescriptionStyleModel",
      "state": {
       "description_width": ""
      }
     },
     "0f4e228b6ed24d7b877e12b1b4cf8342": {
      "model_module": "@jupyter-widgets/controls",
      "model_module_version": "1.5.0",
      "model_name": "HTMLModel",
      "state": {
       "layout": "IPY_MODEL_b2110363bf4044079b8f761b82ce8b7b",
       "style": "IPY_MODEL_d13c9b607af7483487cda60beec7f1b7",
       "value": " 768/768 [00:00&lt;00:00, 52.7kB/s]"
      }
     },
     "0fae6e2743b94ee6a9a9075e0b2d0f9a": {
      "model_module": "@jupyter-widgets/controls",
      "model_module_version": "1.5.0",
      "model_name": "FloatProgressModel",
      "state": {
       "bar_style": "success",
       "layout": "IPY_MODEL_38eab121ade64379b74b44465cc37f0f",
       "max": 267875479,
       "style": "IPY_MODEL_64571b4667bd48eab25f450407bfed91",
       "value": 267875479
      }
     },
     "1179adcf6e1747c68243d94347851ca9": {
      "model_module": "@jupyter-widgets/controls",
      "model_module_version": "1.5.0",
      "model_name": "DescriptionStyleModel",
      "state": {
       "description_width": ""
      }
     },
     "17e02e00a40647cb8151a99f5e888d36": {
      "model_module": "@jupyter-widgets/controls",
      "model_module_version": "1.5.0",
      "model_name": "ProgressStyleModel",
      "state": {
       "description_width": ""
      }
     },
     "196fba37aa7744acbbd8b3229bcd7548": {
      "model_module": "@jupyter-widgets/controls",
      "model_module_version": "1.5.0",
      "model_name": "HTMLModel",
      "state": {
       "layout": "IPY_MODEL_fbbb16da6e144a11817d0bc52f7e6c36",
       "style": "IPY_MODEL_1179adcf6e1747c68243d94347851ca9",
       "value": "Downloading: 100%"
      }
     },
     "1c4f4bc901cb4548b5d888b6f85b0139": {
      "model_module": "@jupyter-widgets/base",
      "model_module_version": "1.2.0",
      "model_name": "LayoutModel",
      "state": {}
     },
     "1c54695668a2473bb21c1012bd78326e": {
      "model_module": "@jupyter-widgets/controls",
      "model_module_version": "1.5.0",
      "model_name": "HTMLModel",
      "state": {
       "layout": "IPY_MODEL_2fa4cb4d81e8499784f18289cf85445a",
       "style": "IPY_MODEL_95bd39f35dea47dfb9995ba3a70cea44",
       "value": "Downloading: 100%"
      }
     },
     "20b91db453dc4318b5537c4135c2da17": {
      "model_module": "@jupyter-widgets/base",
      "model_module_version": "1.2.0",
      "model_name": "LayoutModel",
      "state": {}
     },
     "2e70f03bceb94c028e144488ee3cc642": {
      "model_module": "@jupyter-widgets/base",
      "model_module_version": "1.2.0",
      "model_name": "LayoutModel",
      "state": {}
     },
     "2fa4cb4d81e8499784f18289cf85445a": {
      "model_module": "@jupyter-widgets/base",
      "model_module_version": "1.2.0",
      "model_name": "LayoutModel",
      "state": {}
     },
     "3161589a2e47485ca98e7b2cc33c9d97": {
      "model_module": "@jupyter-widgets/base",
      "model_module_version": "1.2.0",
      "model_name": "LayoutModel",
      "state": {}
     },
     "33722c633edb4d489342705e8e42c076": {
      "model_module": "@jupyter-widgets/controls",
      "model_module_version": "1.5.0",
      "model_name": "HTMLModel",
      "state": {
       "layout": "IPY_MODEL_7514ca8e04394a9f87179c9a936713ca",
       "style": "IPY_MODEL_67b30f152dc640cda59675dc0cc03bcf",
       "value": "Downloading: 100%"
      }
     },
     "363d7eed282a418a9d7e517ed4ea0361": {
      "model_module": "@jupyter-widgets/controls",
      "model_module_version": "1.5.0",
      "model_name": "DescriptionStyleModel",
      "state": {
       "description_width": ""
      }
     },
     "38eab121ade64379b74b44465cc37f0f": {
      "model_module": "@jupyter-widgets/base",
      "model_module_version": "1.2.0",
      "model_name": "LayoutModel",
      "state": {}
     },
     "41b74cfb7fa84b70b434ba7a4bd5a458": {
      "model_module": "@jupyter-widgets/base",
      "model_module_version": "1.2.0",
      "model_name": "LayoutModel",
      "state": {}
     },
     "44f0a15e30af461396f119a27f918ed2": {
      "model_module": "@jupyter-widgets/controls",
      "model_module_version": "1.5.0",
      "model_name": "HBoxModel",
      "state": {
       "children": [
        "IPY_MODEL_33722c633edb4d489342705e8e42c076",
        "IPY_MODEL_f471bf5f212342888688361c0344a9f1",
        "IPY_MODEL_f58f703e208446079eb96cc9cfd1385c"
       ],
       "layout": "IPY_MODEL_d9cb7791612242d29eab3089e4a40933"
      }
     },
     "47c4b181e7cb424c8bf7fd42cd152080": {
      "model_module": "@jupyter-widgets/base",
      "model_module_version": "1.2.0",
      "model_name": "LayoutModel",
      "state": {}
     },
     "48e7c015355e43f391fce217f8a645f2": {
      "model_module": "@jupyter-widgets/controls",
      "model_module_version": "1.5.0",
      "model_name": "HBoxModel",
      "state": {
       "children": [
        "IPY_MODEL_1c54695668a2473bb21c1012bd78326e",
        "IPY_MODEL_6b29e9082ffc4578b58e5d462f7304fe",
        "IPY_MODEL_b74d97abb9574e53a25a944dd58b71d6"
       ],
       "layout": "IPY_MODEL_47c4b181e7cb424c8bf7fd42cd152080"
      }
     },
     "5945b83f3c704ce39b3747e891f88e36": {
      "model_module": "@jupyter-widgets/base",
      "model_module_version": "1.2.0",
      "model_name": "LayoutModel",
      "state": {}
     },
     "5cb56fd7ede34cda98b24b2a1dee316e": {
      "model_module": "@jupyter-widgets/controls",
      "model_module_version": "1.5.0",
      "model_name": "HTMLModel",
      "state": {
       "layout": "IPY_MODEL_a38403ac6fd640bdadd0e16a8e5f3328",
       "style": "IPY_MODEL_8e986baabcf940c1badb2841f12182c7",
       "value": " 255M/255M [00:06&lt;00:00, 43.9MB/s]"
      }
     },
     "64571b4667bd48eab25f450407bfed91": {
      "model_module": "@jupyter-widgets/controls",
      "model_module_version": "1.5.0",
      "model_name": "ProgressStyleModel",
      "state": {
       "description_width": ""
      }
     },
     "67b30f152dc640cda59675dc0cc03bcf": {
      "model_module": "@jupyter-widgets/controls",
      "model_module_version": "1.5.0",
      "model_name": "DescriptionStyleModel",
      "state": {
       "description_width": ""
      }
     },
     "6b29e9082ffc4578b58e5d462f7304fe": {
      "model_module": "@jupyter-widgets/controls",
      "model_module_version": "1.5.0",
      "model_name": "FloatProgressModel",
      "state": {
       "bar_style": "success",
       "layout": "IPY_MODEL_052af338c01246b4b2be673e2e9f650f",
       "max": 231508,
       "style": "IPY_MODEL_04f1d8fd96fb4f12b92453fb3823ee92",
       "value": 231508
      }
     },
     "73bc6eed3e7e43208094c8bc46c04111": {
      "model_module": "@jupyter-widgets/controls",
      "model_module_version": "1.5.0",
      "model_name": "DescriptionStyleModel",
      "state": {
       "description_width": ""
      }
     },
     "74e7bcec8c454be481a36bb4200da17b": {
      "model_module": "@jupyter-widgets/base",
      "model_module_version": "1.2.0",
      "model_name": "LayoutModel",
      "state": {}
     },
     "7514ca8e04394a9f87179c9a936713ca": {
      "model_module": "@jupyter-widgets/base",
      "model_module_version": "1.2.0",
      "model_name": "LayoutModel",
      "state": {}
     },
     "758cb52208944578a226836ce2679397": {
      "model_module": "@jupyter-widgets/controls",
      "model_module_version": "1.5.0",
      "model_name": "FloatProgressModel",
      "state": {
       "bar_style": "success",
       "layout": "IPY_MODEL_5945b83f3c704ce39b3747e891f88e36",
       "max": 768,
       "style": "IPY_MODEL_17e02e00a40647cb8151a99f5e888d36",
       "value": 768
      }
     },
     "7b12bf877f6c4b44b6127cf9eaafe4ef": {
      "model_module": "@jupyter-widgets/base",
      "model_module_version": "1.2.0",
      "model_name": "LayoutModel",
      "state": {}
     },
     "899c151f121a4d43b48620bc7c0df603": {
      "model_module": "@jupyter-widgets/controls",
      "model_module_version": "1.5.0",
      "model_name": "HBoxModel",
      "state": {
       "children": [
        "IPY_MODEL_196fba37aa7744acbbd8b3229bcd7548",
        "IPY_MODEL_06e5319eb46e48009ae9a19fb0a6defd",
        "IPY_MODEL_e595c3122809400880c6fd50a2b54b9f"
       ],
       "layout": "IPY_MODEL_20b91db453dc4318b5537c4135c2da17"
      }
     },
     "8e986baabcf940c1badb2841f12182c7": {
      "model_module": "@jupyter-widgets/controls",
      "model_module_version": "1.5.0",
      "model_name": "DescriptionStyleModel",
      "state": {
       "description_width": ""
      }
     },
     "95bd39f35dea47dfb9995ba3a70cea44": {
      "model_module": "@jupyter-widgets/controls",
      "model_module_version": "1.5.0",
      "model_name": "DescriptionStyleModel",
      "state": {
       "description_width": ""
      }
     },
     "a38403ac6fd640bdadd0e16a8e5f3328": {
      "model_module": "@jupyter-widgets/base",
      "model_module_version": "1.2.0",
      "model_name": "LayoutModel",
      "state": {}
     },
     "b2110363bf4044079b8f761b82ce8b7b": {
      "model_module": "@jupyter-widgets/base",
      "model_module_version": "1.2.0",
      "model_name": "LayoutModel",
      "state": {}
     },
     "b74d97abb9574e53a25a944dd58b71d6": {
      "model_module": "@jupyter-widgets/controls",
      "model_module_version": "1.5.0",
      "model_name": "HTMLModel",
      "state": {
       "layout": "IPY_MODEL_41b74cfb7fa84b70b434ba7a4bd5a458",
       "style": "IPY_MODEL_0da27902c8f547f393d1019bf70e8fad",
       "value": " 226k/226k [00:00&lt;00:00, 458kB/s]"
      }
     },
     "bcc280c13b944851811f492f54287f63": {
      "model_module": "@jupyter-widgets/base",
      "model_module_version": "1.2.0",
      "model_name": "LayoutModel",
      "state": {}
     },
     "c96be27b18e747f690fa2f83a53dcfc4": {
      "model_module": "@jupyter-widgets/controls",
      "model_module_version": "1.5.0",
      "model_name": "DescriptionStyleModel",
      "state": {
       "description_width": ""
      }
     },
     "ca5ea8148b81474f97610bf0793f1153": {
      "model_module": "@jupyter-widgets/base",
      "model_module_version": "1.2.0",
      "model_name": "LayoutModel",
      "state": {}
     },
     "d13c9b607af7483487cda60beec7f1b7": {
      "model_module": "@jupyter-widgets/controls",
      "model_module_version": "1.5.0",
      "model_name": "DescriptionStyleModel",
      "state": {
       "description_width": ""
      }
     },
     "d9cb7791612242d29eab3089e4a40933": {
      "model_module": "@jupyter-widgets/base",
      "model_module_version": "1.2.0",
      "model_name": "LayoutModel",
      "state": {}
     },
     "de0ffbfbc9094bc1b3c9e87bb28ccff8": {
      "model_module": "@jupyter-widgets/controls",
      "model_module_version": "1.5.0",
      "model_name": "DescriptionStyleModel",
      "state": {
       "description_width": ""
      }
     },
     "e1f3160a744f457385abc3c9a7c6f0fe": {
      "model_module": "@jupyter-widgets/controls",
      "model_module_version": "1.5.0",
      "model_name": "HTMLModel",
      "state": {
       "layout": "IPY_MODEL_74e7bcec8c454be481a36bb4200da17b",
       "style": "IPY_MODEL_de0ffbfbc9094bc1b3c9e87bb28ccff8",
       "value": "Downloading: 100%"
      }
     },
     "e503a74802fb44da925f591e6bd4601e": {
      "model_module": "@jupyter-widgets/controls",
      "model_module_version": "1.5.0",
      "model_name": "HBoxModel",
      "state": {
       "children": [
        "IPY_MODEL_e1f3160a744f457385abc3c9a7c6f0fe",
        "IPY_MODEL_0fae6e2743b94ee6a9a9075e0b2d0f9a",
        "IPY_MODEL_5cb56fd7ede34cda98b24b2a1dee316e"
       ],
       "layout": "IPY_MODEL_2e70f03bceb94c028e144488ee3cc642"
      }
     },
     "e595c3122809400880c6fd50a2b54b9f": {
      "model_module": "@jupyter-widgets/controls",
      "model_module_version": "1.5.0",
      "model_name": "HTMLModel",
      "state": {
       "layout": "IPY_MODEL_ca5ea8148b81474f97610bf0793f1153",
       "style": "IPY_MODEL_363d7eed282a418a9d7e517ed4ea0361",
       "value": " 291/291 [00:00&lt;00:00, 20.2kB/s]"
      }
     },
     "e8955ca308f146c5830eb4087d9dfa15": {
      "model_module": "@jupyter-widgets/controls",
      "model_module_version": "1.5.0",
      "model_name": "HTMLModel",
      "state": {
       "layout": "IPY_MODEL_1c4f4bc901cb4548b5d888b6f85b0139",
       "style": "IPY_MODEL_c96be27b18e747f690fa2f83a53dcfc4",
       "value": "Downloading: 100%"
      }
     },
     "f0f1d742a3e142d685fc113b81955d27": {
      "model_module": "@jupyter-widgets/base",
      "model_module_version": "1.2.0",
      "model_name": "LayoutModel",
      "state": {}
     },
     "f133acceb4c94b45a2ac53700b73d6ba": {
      "model_module": "@jupyter-widgets/controls",
      "model_module_version": "1.5.0",
      "model_name": "HBoxModel",
      "state": {
       "children": [
        "IPY_MODEL_e8955ca308f146c5830eb4087d9dfa15",
        "IPY_MODEL_758cb52208944578a226836ce2679397",
        "IPY_MODEL_0f4e228b6ed24d7b877e12b1b4cf8342"
       ],
       "layout": "IPY_MODEL_3161589a2e47485ca98e7b2cc33c9d97"
      }
     },
     "f3f36b78ee4345a8968deaff6afb339b": {
      "model_module": "@jupyter-widgets/controls",
      "model_module_version": "1.5.0",
      "model_name": "ProgressStyleModel",
      "state": {
       "description_width": ""
      }
     },
     "f471bf5f212342888688361c0344a9f1": {
      "model_module": "@jupyter-widgets/controls",
      "model_module_version": "1.5.0",
      "model_name": "FloatProgressModel",
      "state": {
       "bar_style": "success",
       "layout": "IPY_MODEL_7b12bf877f6c4b44b6127cf9eaafe4ef",
       "max": 112,
       "style": "IPY_MODEL_f3f36b78ee4345a8968deaff6afb339b",
       "value": 112
      }
     },
     "f58f703e208446079eb96cc9cfd1385c": {
      "model_module": "@jupyter-widgets/controls",
      "model_module_version": "1.5.0",
      "model_name": "HTMLModel",
      "state": {
       "layout": "IPY_MODEL_f0f1d742a3e142d685fc113b81955d27",
       "style": "IPY_MODEL_73bc6eed3e7e43208094c8bc46c04111",
       "value": " 112/112 [00:00&lt;00:00, 5.08kB/s]"
      }
     },
     "fbbb16da6e144a11817d0bc52f7e6c36": {
      "model_module": "@jupyter-widgets/base",
      "model_module_version": "1.2.0",
      "model_name": "LayoutModel",
      "state": {}
     }
    },
    "version_major": 2,
    "version_minor": 0
   }
  }
 },
 "nbformat": 4,
 "nbformat_minor": 4
}
